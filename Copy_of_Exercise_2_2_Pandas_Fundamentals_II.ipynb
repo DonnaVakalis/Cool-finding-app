{
  "nbformat": 4,
  "nbformat_minor": 0,
  "metadata": {
    "colab": {
      "name": "Copy of Exercise 2.2 - Pandas Fundamentals II",
      "provenance": [],
      "collapsed_sections": [],
      "include_colab_link": true
    },
    "kernelspec": {
      "name": "python3",
      "display_name": "Python 3"
    }
  },
  "cells": [
    {
      "cell_type": "markdown",
      "metadata": {
        "id": "view-in-github",
        "colab_type": "text"
      },
      "source": [
        "<a href=\"https://colab.research.google.com/github/DonnaVakalis/Cool-finding-app/blob/master/Copy_of_Exercise_2_2_Pandas_Fundamentals_II.ipynb\" target=\"_parent\"><img src=\"https://colab.research.google.com/assets/colab-badge.svg\" alt=\"Open In Colab\"/></a>"
      ]
    },
    {
      "cell_type": "markdown",
      "metadata": {
        "id": "mQlkWmvx7J9r",
        "colab_type": "text"
      },
      "source": [
        "# Data Science for Construction, Architecture and Engineering\n",
        "\n",
        "### Week 2 - Building Design Phase - Intro to Pandas\n",
        "\n",
        "### Exercise Set 2.2 - Pandas Fundamentals II\n",
        "\n",
        "This set of exercises is the second of two sets for Week 2. These exercises are designed to give you some hands on experience in trying out the concepts from the second set of videos for this week.\n",
        "\n",
        "There is an introduction video available to explain the process of using this exercise video.\n",
        "\n",
        "The lead developer of this exercise is Matias Quintana, a Ph.D. student at NUS and a teaching assistant of this course. "
      ]
    },
    {
      "cell_type": "markdown",
      "metadata": {
        "id": "4rVMs5nJMWRF",
        "colab_type": "text"
      },
      "source": [
        "# Exercise 02.2\n",
        "\n",
        "There are three exercises in this set, each one slightly more advanced uses of the [Pandas library](https://pandas.pydata.org/).\n",
        "\n",
        "### Please note that you will need to use the resultant output from Exercise 02.2.3 for the Quiz 2.2."
      ]
    },
    {
      "cell_type": "markdown",
      "metadata": {
        "id": "A3KaS5J7YSN1",
        "colab_type": "text"
      },
      "source": [
        "First, we will help by importing the files the libraries you will need on this notebook:"
      ]
    },
    {
      "cell_type": "code",
      "metadata": {
        "id": "45mbhhftok3k",
        "colab_type": "code",
        "colab": {}
      },
      "source": [
        "import pandas as pd\n",
        "import os\n",
        "from google.colab import drive"
      ],
      "execution_count": 0,
      "outputs": []
    },
    {
      "cell_type": "markdown",
      "metadata": {
        "id": "D_DZ1BPjZpkA",
        "colab_type": "text"
      },
      "source": [
        "And mount the google drive folder"
      ]
    },
    {
      "cell_type": "code",
      "metadata": {
        "id": "tCbnv7nUZtUs",
        "colab_type": "code",
        "outputId": "3910ef3f-8fd4-43a6-e748-c1dd5d7c5a8c",
        "colab": {
          "base_uri": "https://localhost:8080/",
          "height": 126
        }
      },
      "source": [
        "drive.mount('/content/gdrive')\n",
        "os.chdir(\"/content/gdrive/My Drive/EDX Data Science for Construction, Architecture and Engineering/Week 2 - Building Design - Intro to Pandas/simulation_data\")"
      ],
      "execution_count": 2,
      "outputs": [
        {
          "output_type": "stream",
          "text": [
            "Go to this URL in a browser: https://accounts.google.com/o/oauth2/auth?client_id=947318989803-6bn6qk8qdgf4n4g3pfee6491hc0brc4i.apps.googleusercontent.com&redirect_uri=urn%3aietf%3awg%3aoauth%3a2.0%3aoob&response_type=code&scope=email%20https%3a%2f%2fwww.googleapis.com%2fauth%2fdocs.test%20https%3a%2f%2fwww.googleapis.com%2fauth%2fdrive%20https%3a%2f%2fwww.googleapis.com%2fauth%2fdrive.photos.readonly%20https%3a%2f%2fwww.googleapis.com%2fauth%2fpeopleapi.readonly\n",
            "\n",
            "Enter your authorization code:\n",
            "··········\n",
            "Mounted at /content/gdrive\n"
          ],
          "name": "stdout"
        }
      ]
    },
    {
      "cell_type": "markdown",
      "metadata": {
        "id": "GmfxfuNhMkt4",
        "colab_type": "text"
      },
      "source": [
        "## Exercise 02.2.1 "
      ]
    },
    {
      "cell_type": "markdown",
      "metadata": {
        "id": "fzoU_TViibX7",
        "colab_type": "text"
      },
      "source": [
        "As a data scientist in the built environment, you may want to compare different simulation scenarios with a baseline in order to aid the decision making of the stakeholders. By doing this, you can provide better insights to the design team in terms of which streagy is less energy heavy.\n",
        "\n",
        "The first thing we can do is load all the different scenarios alongside the baseline together. As you saw on the videos, one feature of interative python notebooks is the ability to run UNIX commands, such as `ls`:\n"
      ]
    },
    {
      "cell_type": "code",
      "metadata": {
        "id": "8rZZYtyLMqsN",
        "colab_type": "code",
        "outputId": "0c41bf7b-4618-4248-f82e-f6a545ad8236",
        "colab": {
          "base_uri": "https://localhost:8080/",
          "height": 88
        }
      },
      "source": [
        "ls"
      ],
      "execution_count": 3,
      "outputs": [
        {
          "output_type": "stream",
          "text": [
            " Baseline.csv                      'Scenario - Increase Setpoint.csv'\n",
            " Baseline.xlsx                     'Scenario - Low-E Glass.csv'\n",
            "'Scenario - Aircon Schedules.csv'  'Scenario - Rooftop Gardens.csv'\n",
            "'Scenario - Cool roof.csv'\n"
          ],
          "name": "stdout"
        }
      ]
    },
    {
      "cell_type": "markdown",
      "metadata": {
        "id": "GX2Mqao2Z4zg",
        "colab_type": "text"
      },
      "source": [
        "This command lists the contents of a given directory. In your case, is listing the contents of the current directory on which you arrived after mounting the gdrive."
      ]
    },
    {
      "cell_type": "markdown",
      "metadata": {
        "id": "oQoDkJ0zNEis",
        "colab_type": "text"
      },
      "source": [
        "You have already used `.read_csv()` to load a single file, now you are tasked to write a program that loads all the `.csv` files shown by the `ls` command. \n",
        "\n",
        "In this exercise go ahead and try loading and manipulating all the scenario files, this time using a **function**.\n",
        "\n",
        "You can use this function called `load_all_csv` to load the files and the input can be a list of file names.\n",
        "\n",
        "If you're successful, this function will be the only line of code you need to load data from all the files -- i.e.: `all_data = load_all_csv(files_names)` to collect all the data properly\n",
        "\n",
        "Complete the function below and verify the files are loaded into `all_data`.\n",
        "\n",
        "Use this first code cell to define your function:\n"
      ]
    },
    {
      "cell_type": "code",
      "metadata": {
        "id": "pGipw2_GpFAa",
        "colab_type": "code",
        "colab": {}
      },
      "source": [
        "# YOUR FUNCTION DEFINITION CODE HERE\n",
        "\n",
        "def load_all_csv(files_names):\n",
        "    csv_container = []\n",
        "    for filename in files_names:\n",
        "         csv_container.append(pd.read_csv(filename, index_col=\"Month\"))\n",
        "    all_dat = pd.concat(csv_container,axis=1)\n",
        "    return all_dat\n",
        "\n",
        "\n",
        "\n"
      ],
      "execution_count": 0,
      "outputs": []
    },
    {
      "cell_type": "markdown",
      "metadata": {
        "id": "suRrnb8nSUSt",
        "colab_type": "text"
      },
      "source": [
        "Now you can write code here that will define the list of scenario files, call the function and show the resultant DataFrame `all_data`"
      ]
    },
    {
      "cell_type": "code",
      "metadata": {
        "id": "NuOrh3_dcBf6",
        "colab_type": "code",
        "outputId": "b96c8d00-b25d-4521-e8fa-ce510b96b4be",
        "colab": {
          "base_uri": "https://localhost:8080/",
          "height": 223
        }
      },
      "source": [
        "files_names =['Baseline.csv', 'Scenario - Increase Setpoint.csv', 'Scenario - Low-E Glass.csv', 'Scenario - Aircon Schedules.csv','Scenario - Rooftop Gardens.csv','Scenario - Cool roof.csv']\n",
        "all_data = load_all_csv(files_names)\n",
        "all_data.head()"
      ],
      "execution_count": 7,
      "outputs": [
        {
          "output_type": "execute_result",
          "data": {
            "text/html": [
              "<div>\n",
              "<style scoped>\n",
              "    .dataframe tbody tr th:only-of-type {\n",
              "        vertical-align: middle;\n",
              "    }\n",
              "\n",
              "    .dataframe tbody tr th {\n",
              "        vertical-align: top;\n",
              "    }\n",
              "\n",
              "    .dataframe thead th {\n",
              "        text-align: right;\n",
              "    }\n",
              "</style>\n",
              "<table border=\"1\" class=\"dataframe\">\n",
              "  <thead>\n",
              "    <tr style=\"text-align: right;\">\n",
              "      <th></th>\n",
              "      <th>Baseline</th>\n",
              "      <th>Scenario - Increase Setpoint</th>\n",
              "      <th>Scenario - Low-E Glass</th>\n",
              "      <th>Scenario - Aircon Schedules</th>\n",
              "      <th>Scenario - Rooftop Gardens</th>\n",
              "      <th>Scenario - Cool roof</th>\n",
              "    </tr>\n",
              "    <tr>\n",
              "      <th>Month</th>\n",
              "      <th></th>\n",
              "      <th></th>\n",
              "      <th></th>\n",
              "      <th></th>\n",
              "      <th></th>\n",
              "      <th></th>\n",
              "    </tr>\n",
              "  </thead>\n",
              "  <tbody>\n",
              "    <tr>\n",
              "      <th>January</th>\n",
              "      <td>5.69</td>\n",
              "      <td>2.73</td>\n",
              "      <td>5.41</td>\n",
              "      <td>5.61</td>\n",
              "      <td>6.30</td>\n",
              "      <td>4.46</td>\n",
              "    </tr>\n",
              "    <tr>\n",
              "      <th>February</th>\n",
              "      <td>6.75</td>\n",
              "      <td>3.88</td>\n",
              "      <td>6.48</td>\n",
              "      <td>6.50</td>\n",
              "      <td>7.15</td>\n",
              "      <td>5.39</td>\n",
              "    </tr>\n",
              "    <tr>\n",
              "      <th>March</th>\n",
              "      <td>10.64</td>\n",
              "      <td>6.60</td>\n",
              "      <td>10.37</td>\n",
              "      <td>9.70</td>\n",
              "      <td>10.90</td>\n",
              "      <td>8.96</td>\n",
              "    </tr>\n",
              "    <tr>\n",
              "      <th>April</th>\n",
              "      <td>13.60</td>\n",
              "      <td>9.37</td>\n",
              "      <td>13.36</td>\n",
              "      <td>11.95</td>\n",
              "      <td>13.59</td>\n",
              "      <td>11.73</td>\n",
              "    </tr>\n",
              "    <tr>\n",
              "      <th>May</th>\n",
              "      <td>19.34</td>\n",
              "      <td>14.82</td>\n",
              "      <td>19.14</td>\n",
              "      <td>16.52</td>\n",
              "      <td>18.94</td>\n",
              "      <td>17.28</td>\n",
              "    </tr>\n",
              "  </tbody>\n",
              "</table>\n",
              "</div>"
            ],
            "text/plain": [
              "          Baseline  ...  Scenario - Cool roof\n",
              "Month               ...                      \n",
              "January       5.69  ...                  4.46\n",
              "February      6.75  ...                  5.39\n",
              "March        10.64  ...                  8.96\n",
              "April        13.60  ...                 11.73\n",
              "May          19.34  ...                 17.28\n",
              "\n",
              "[5 rows x 6 columns]"
            ]
          },
          "metadata": {
            "tags": []
          },
          "execution_count": 7
        }
      ]
    },
    {
      "cell_type": "markdown",
      "metadata": {
        "id": "QVPxq_08rb5n",
        "colab_type": "text"
      },
      "source": [
        "## Exercise 02.2.2\n",
        "Sometimes, even if you have all the data we want to compare in one single dataframe, you may want to analyse specific columns rather than all of them. "
      ]
    },
    {
      "cell_type": "markdown",
      "metadata": {
        "id": "iSmdxmRDveug",
        "colab_type": "text"
      },
      "source": [
        "In this exercise, write some lines of codes that creates a new dataframe containing only data from the `Baseline` and the simulation scenarios that are related to roof features."
      ]
    },
    {
      "cell_type": "markdown",
      "metadata": {
        "id": "t67Te4zPjdg1",
        "colab_type": "text"
      },
      "source": [
        "**Hint**: Look at the instruction code in Exercise 02.01.3 for a reference on how to select a single column.\n"
      ]
    },
    {
      "cell_type": "markdown",
      "metadata": {
        "id": "vicpfE5ijm6C",
        "colab_type": "text"
      },
      "source": [
        "**Hint**: Remember that when you want to group variables is better to treat them as a list `['a','b']` instead of just two independant variables `'a','b'`. Notice the square brackets."
      ]
    },
    {
      "cell_type": "code",
      "metadata": {
        "id": "JA4l4fuApnNI",
        "colab_type": "code",
        "colab": {
          "base_uri": "https://localhost:8080/",
          "height": 223
        },
        "outputId": "1ce52ffd-01eb-4eba-a7f9-ccf1fc6c9461"
      },
      "source": [
        "# YOUR CODE HERE\n",
        "df_subset = all_data[['Scenario - Cool roof','Baseline']]\n",
        "df_subset.head()\n"
      ],
      "execution_count": 16,
      "outputs": [
        {
          "output_type": "execute_result",
          "data": {
            "text/html": [
              "<div>\n",
              "<style scoped>\n",
              "    .dataframe tbody tr th:only-of-type {\n",
              "        vertical-align: middle;\n",
              "    }\n",
              "\n",
              "    .dataframe tbody tr th {\n",
              "        vertical-align: top;\n",
              "    }\n",
              "\n",
              "    .dataframe thead th {\n",
              "        text-align: right;\n",
              "    }\n",
              "</style>\n",
              "<table border=\"1\" class=\"dataframe\">\n",
              "  <thead>\n",
              "    <tr style=\"text-align: right;\">\n",
              "      <th></th>\n",
              "      <th>Scenario - Cool roof</th>\n",
              "      <th>Baseline</th>\n",
              "    </tr>\n",
              "    <tr>\n",
              "      <th>Month</th>\n",
              "      <th></th>\n",
              "      <th></th>\n",
              "    </tr>\n",
              "  </thead>\n",
              "  <tbody>\n",
              "    <tr>\n",
              "      <th>January</th>\n",
              "      <td>4.46</td>\n",
              "      <td>5.69</td>\n",
              "    </tr>\n",
              "    <tr>\n",
              "      <th>February</th>\n",
              "      <td>5.39</td>\n",
              "      <td>6.75</td>\n",
              "    </tr>\n",
              "    <tr>\n",
              "      <th>March</th>\n",
              "      <td>8.96</td>\n",
              "      <td>10.64</td>\n",
              "    </tr>\n",
              "    <tr>\n",
              "      <th>April</th>\n",
              "      <td>11.73</td>\n",
              "      <td>13.60</td>\n",
              "    </tr>\n",
              "    <tr>\n",
              "      <th>May</th>\n",
              "      <td>17.28</td>\n",
              "      <td>19.34</td>\n",
              "    </tr>\n",
              "  </tbody>\n",
              "</table>\n",
              "</div>"
            ],
            "text/plain": [
              "          Scenario - Cool roof  Baseline\n",
              "Month                                   \n",
              "January                   4.46      5.69\n",
              "February                  5.39      6.75\n",
              "March                     8.96     10.64\n",
              "April                    11.73     13.60\n",
              "May                      17.28     19.34"
            ]
          },
          "metadata": {
            "tags": []
          },
          "execution_count": 16
        }
      ]
    },
    {
      "cell_type": "markdown",
      "metadata": {
        "id": "DB6p9FHsr9WX",
        "colab_type": "text"
      },
      "source": [
        "## Exercise 02.2.3\n",
        "In this last exercise, let's create an the analysis of `Baseline` and simulation scenarios related to roof features. \n",
        "\n",
        "Go ahead and write some code now that calculate the percentage of energy savings that the scenario with the lowest consumption achieves when compared scenario with the maximum consumption (the baseline) for the month of June. \n",
        "\n",
        "Save this calculation as the variable `savings`\n"
      ]
    },
    {
      "cell_type": "markdown",
      "metadata": {
        "id": "eoH3B2ExmNNR",
        "colab_type": "text"
      },
      "source": [
        "Type your answer in numbers from 0% to 100% and round to 2 decimal places"
      ]
    },
    {
      "cell_type": "markdown",
      "metadata": {
        "id": "14JhcgLNlnCL",
        "colab_type": "text"
      },
      "source": [
        "**Hint**: One way to select specific rows in a dataframe is by choosing the index with the function `.iloc[]`. This function accepts arguments in the form of `row_indices` or `row_indices, column_indices` (indices start with 0 in Python)."
      ]
    },
    {
      "cell_type": "code",
      "metadata": {
        "id": "Qt5cskNs05H1",
        "colab_type": "code",
        "colab": {
          "base_uri": "https://localhost:8080/",
          "height": 223
        },
        "outputId": "a5895fa3-805f-4081-a66b-40227e3ec3d0"
      },
      "source": [
        "# YOUR CODE HERE\n",
        "df_subset = df_subset.assign(Savings = abs(df_subset['Scenario - Cool roof'] - df_subset['Baseline']))\n",
        "df_subset.head()\n"
      ],
      "execution_count": 17,
      "outputs": [
        {
          "output_type": "execute_result",
          "data": {
            "text/html": [
              "<div>\n",
              "<style scoped>\n",
              "    .dataframe tbody tr th:only-of-type {\n",
              "        vertical-align: middle;\n",
              "    }\n",
              "\n",
              "    .dataframe tbody tr th {\n",
              "        vertical-align: top;\n",
              "    }\n",
              "\n",
              "    .dataframe thead th {\n",
              "        text-align: right;\n",
              "    }\n",
              "</style>\n",
              "<table border=\"1\" class=\"dataframe\">\n",
              "  <thead>\n",
              "    <tr style=\"text-align: right;\">\n",
              "      <th></th>\n",
              "      <th>Scenario - Cool roof</th>\n",
              "      <th>Baseline</th>\n",
              "      <th>Savings</th>\n",
              "    </tr>\n",
              "    <tr>\n",
              "      <th>Month</th>\n",
              "      <th></th>\n",
              "      <th></th>\n",
              "      <th></th>\n",
              "    </tr>\n",
              "  </thead>\n",
              "  <tbody>\n",
              "    <tr>\n",
              "      <th>January</th>\n",
              "      <td>4.46</td>\n",
              "      <td>5.69</td>\n",
              "      <td>1.23</td>\n",
              "    </tr>\n",
              "    <tr>\n",
              "      <th>February</th>\n",
              "      <td>5.39</td>\n",
              "      <td>6.75</td>\n",
              "      <td>1.36</td>\n",
              "    </tr>\n",
              "    <tr>\n",
              "      <th>March</th>\n",
              "      <td>8.96</td>\n",
              "      <td>10.64</td>\n",
              "      <td>1.68</td>\n",
              "    </tr>\n",
              "    <tr>\n",
              "      <th>April</th>\n",
              "      <td>11.73</td>\n",
              "      <td>13.60</td>\n",
              "      <td>1.87</td>\n",
              "    </tr>\n",
              "    <tr>\n",
              "      <th>May</th>\n",
              "      <td>17.28</td>\n",
              "      <td>19.34</td>\n",
              "      <td>2.06</td>\n",
              "    </tr>\n",
              "  </tbody>\n",
              "</table>\n",
              "</div>"
            ],
            "text/plain": [
              "          Scenario - Cool roof  Baseline  Savings\n",
              "Month                                            \n",
              "January                   4.46      5.69     1.23\n",
              "February                  5.39      6.75     1.36\n",
              "March                     8.96     10.64     1.68\n",
              "April                    11.73     13.60     1.87\n",
              "May                      17.28     19.34     2.06"
            ]
          },
          "metadata": {
            "tags": []
          },
          "execution_count": 17
        }
      ]
    },
    {
      "cell_type": "markdown",
      "metadata": {
        "id": "r-WIG1TCTlk8",
        "colab_type": "text"
      },
      "source": [
        "### Please write down the number that you calculated for the variable `savings` rounded up to 2 decimal places and input in Quiz 2.2"
      ]
    },
    {
      "cell_type": "code",
      "metadata": {
        "id": "u04VKnujc5uT",
        "colab_type": "code",
        "colab": {
          "base_uri": "https://localhost:8080/",
          "height": 35
        },
        "outputId": "5874217a-a3a2-4f48-85f6-dbe71c5591a3"
      },
      "source": [
        "savings = df_subset['Savings']\n",
        "June_savings = savings[\"June\"]\n",
        "print(June_savings)"
      ],
      "execution_count": 41,
      "outputs": [
        {
          "output_type": "stream",
          "text": [
            "2.1000000000000014\n"
          ],
          "name": "stdout"
        }
      ]
    },
    {
      "cell_type": "code",
      "metadata": {
        "id": "EVNWNUdxTnmn",
        "colab_type": "code",
        "colab": {
          "base_uri": "https://localhost:8080/",
          "height": 726
        },
        "outputId": "c7342a5b-7747-4d8c-9463-d6cdc48116cf"
      },
      "source": [
        "print(June_savings2 = df_subset['June']['Savings'])\n",
        " "
      ],
      "execution_count": 44,
      "outputs": [
        {
          "output_type": "error",
          "ename": "KeyError",
          "evalue": "ignored",
          "traceback": [
            "\u001b[0;31m---------------------------------------------------------------------------\u001b[0m",
            "\u001b[0;31mKeyError\u001b[0m                                  Traceback (most recent call last)",
            "\u001b[0;32m/usr/local/lib/python3.6/dist-packages/pandas/core/indexes/base.py\u001b[0m in \u001b[0;36mget_loc\u001b[0;34m(self, key, method, tolerance)\u001b[0m\n\u001b[1;32m   2645\u001b[0m             \u001b[0;32mtry\u001b[0m\u001b[0;34m:\u001b[0m\u001b[0;34m\u001b[0m\u001b[0;34m\u001b[0m\u001b[0m\n\u001b[0;32m-> 2646\u001b[0;31m                 \u001b[0;32mreturn\u001b[0m \u001b[0mself\u001b[0m\u001b[0;34m.\u001b[0m\u001b[0m_engine\u001b[0m\u001b[0;34m.\u001b[0m\u001b[0mget_loc\u001b[0m\u001b[0;34m(\u001b[0m\u001b[0mkey\u001b[0m\u001b[0;34m)\u001b[0m\u001b[0;34m\u001b[0m\u001b[0;34m\u001b[0m\u001b[0m\n\u001b[0m\u001b[1;32m   2647\u001b[0m             \u001b[0;32mexcept\u001b[0m \u001b[0mKeyError\u001b[0m\u001b[0;34m:\u001b[0m\u001b[0;34m\u001b[0m\u001b[0;34m\u001b[0m\u001b[0m\n",
            "\u001b[0;32mpandas/_libs/index.pyx\u001b[0m in \u001b[0;36mpandas._libs.index.IndexEngine.get_loc\u001b[0;34m()\u001b[0m\n",
            "\u001b[0;32mpandas/_libs/index.pyx\u001b[0m in \u001b[0;36mpandas._libs.index.IndexEngine.get_loc\u001b[0;34m()\u001b[0m\n",
            "\u001b[0;32mpandas/_libs/hashtable_class_helper.pxi\u001b[0m in \u001b[0;36mpandas._libs.hashtable.PyObjectHashTable.get_item\u001b[0;34m()\u001b[0m\n",
            "\u001b[0;32mpandas/_libs/hashtable_class_helper.pxi\u001b[0m in \u001b[0;36mpandas._libs.hashtable.PyObjectHashTable.get_item\u001b[0;34m()\u001b[0m\n",
            "\u001b[0;31mKeyError\u001b[0m: 'June'",
            "\nDuring handling of the above exception, another exception occurred:\n",
            "\u001b[0;31mKeyError\u001b[0m                                  Traceback (most recent call last)",
            "\u001b[0;32m<ipython-input-44-773f82dd237f>\u001b[0m in \u001b[0;36m<module>\u001b[0;34m()\u001b[0m\n\u001b[0;32m----> 1\u001b[0;31m \u001b[0mprint\u001b[0m\u001b[0;34m(\u001b[0m\u001b[0mJune_savings2\u001b[0m \u001b[0;34m=\u001b[0m \u001b[0mdf_subset\u001b[0m\u001b[0;34m[\u001b[0m\u001b[0;34m'June'\u001b[0m\u001b[0;34m]\u001b[0m\u001b[0;34m[\u001b[0m\u001b[0;34m'Savings'\u001b[0m\u001b[0;34m]\u001b[0m\u001b[0;34m)\u001b[0m\u001b[0;34m\u001b[0m\u001b[0;34m\u001b[0m\u001b[0m\n\u001b[0m\u001b[1;32m      2\u001b[0m \u001b[0;34m\u001b[0m\u001b[0m\n",
            "\u001b[0;32m/usr/local/lib/python3.6/dist-packages/pandas/core/frame.py\u001b[0m in \u001b[0;36m__getitem__\u001b[0;34m(self, key)\u001b[0m\n\u001b[1;32m   2798\u001b[0m             \u001b[0;32mif\u001b[0m \u001b[0mself\u001b[0m\u001b[0;34m.\u001b[0m\u001b[0mcolumns\u001b[0m\u001b[0;34m.\u001b[0m\u001b[0mnlevels\u001b[0m \u001b[0;34m>\u001b[0m \u001b[0;36m1\u001b[0m\u001b[0;34m:\u001b[0m\u001b[0;34m\u001b[0m\u001b[0;34m\u001b[0m\u001b[0m\n\u001b[1;32m   2799\u001b[0m                 \u001b[0;32mreturn\u001b[0m \u001b[0mself\u001b[0m\u001b[0;34m.\u001b[0m\u001b[0m_getitem_multilevel\u001b[0m\u001b[0;34m(\u001b[0m\u001b[0mkey\u001b[0m\u001b[0;34m)\u001b[0m\u001b[0;34m\u001b[0m\u001b[0;34m\u001b[0m\u001b[0m\n\u001b[0;32m-> 2800\u001b[0;31m             \u001b[0mindexer\u001b[0m \u001b[0;34m=\u001b[0m \u001b[0mself\u001b[0m\u001b[0;34m.\u001b[0m\u001b[0mcolumns\u001b[0m\u001b[0;34m.\u001b[0m\u001b[0mget_loc\u001b[0m\u001b[0;34m(\u001b[0m\u001b[0mkey\u001b[0m\u001b[0;34m)\u001b[0m\u001b[0;34m\u001b[0m\u001b[0;34m\u001b[0m\u001b[0m\n\u001b[0m\u001b[1;32m   2801\u001b[0m             \u001b[0;32mif\u001b[0m \u001b[0mis_integer\u001b[0m\u001b[0;34m(\u001b[0m\u001b[0mindexer\u001b[0m\u001b[0;34m)\u001b[0m\u001b[0;34m:\u001b[0m\u001b[0;34m\u001b[0m\u001b[0;34m\u001b[0m\u001b[0m\n\u001b[1;32m   2802\u001b[0m                 \u001b[0mindexer\u001b[0m \u001b[0;34m=\u001b[0m \u001b[0;34m[\u001b[0m\u001b[0mindexer\u001b[0m\u001b[0;34m]\u001b[0m\u001b[0;34m\u001b[0m\u001b[0;34m\u001b[0m\u001b[0m\n",
            "\u001b[0;32m/usr/local/lib/python3.6/dist-packages/pandas/core/indexes/base.py\u001b[0m in \u001b[0;36mget_loc\u001b[0;34m(self, key, method, tolerance)\u001b[0m\n\u001b[1;32m   2646\u001b[0m                 \u001b[0;32mreturn\u001b[0m \u001b[0mself\u001b[0m\u001b[0;34m.\u001b[0m\u001b[0m_engine\u001b[0m\u001b[0;34m.\u001b[0m\u001b[0mget_loc\u001b[0m\u001b[0;34m(\u001b[0m\u001b[0mkey\u001b[0m\u001b[0;34m)\u001b[0m\u001b[0;34m\u001b[0m\u001b[0;34m\u001b[0m\u001b[0m\n\u001b[1;32m   2647\u001b[0m             \u001b[0;32mexcept\u001b[0m \u001b[0mKeyError\u001b[0m\u001b[0;34m:\u001b[0m\u001b[0;34m\u001b[0m\u001b[0;34m\u001b[0m\u001b[0m\n\u001b[0;32m-> 2648\u001b[0;31m                 \u001b[0;32mreturn\u001b[0m \u001b[0mself\u001b[0m\u001b[0;34m.\u001b[0m\u001b[0m_engine\u001b[0m\u001b[0;34m.\u001b[0m\u001b[0mget_loc\u001b[0m\u001b[0;34m(\u001b[0m\u001b[0mself\u001b[0m\u001b[0;34m.\u001b[0m\u001b[0m_maybe_cast_indexer\u001b[0m\u001b[0;34m(\u001b[0m\u001b[0mkey\u001b[0m\u001b[0;34m)\u001b[0m\u001b[0;34m)\u001b[0m\u001b[0;34m\u001b[0m\u001b[0;34m\u001b[0m\u001b[0m\n\u001b[0m\u001b[1;32m   2649\u001b[0m         \u001b[0mindexer\u001b[0m \u001b[0;34m=\u001b[0m \u001b[0mself\u001b[0m\u001b[0;34m.\u001b[0m\u001b[0mget_indexer\u001b[0m\u001b[0;34m(\u001b[0m\u001b[0;34m[\u001b[0m\u001b[0mkey\u001b[0m\u001b[0;34m]\u001b[0m\u001b[0;34m,\u001b[0m \u001b[0mmethod\u001b[0m\u001b[0;34m=\u001b[0m\u001b[0mmethod\u001b[0m\u001b[0;34m,\u001b[0m \u001b[0mtolerance\u001b[0m\u001b[0;34m=\u001b[0m\u001b[0mtolerance\u001b[0m\u001b[0;34m)\u001b[0m\u001b[0;34m\u001b[0m\u001b[0;34m\u001b[0m\u001b[0m\n\u001b[1;32m   2650\u001b[0m         \u001b[0;32mif\u001b[0m \u001b[0mindexer\u001b[0m\u001b[0;34m.\u001b[0m\u001b[0mndim\u001b[0m \u001b[0;34m>\u001b[0m \u001b[0;36m1\u001b[0m \u001b[0;32mor\u001b[0m \u001b[0mindexer\u001b[0m\u001b[0;34m.\u001b[0m\u001b[0msize\u001b[0m \u001b[0;34m>\u001b[0m \u001b[0;36m1\u001b[0m\u001b[0;34m:\u001b[0m\u001b[0;34m\u001b[0m\u001b[0;34m\u001b[0m\u001b[0m\n",
            "\u001b[0;32mpandas/_libs/index.pyx\u001b[0m in \u001b[0;36mpandas._libs.index.IndexEngine.get_loc\u001b[0;34m()\u001b[0m\n",
            "\u001b[0;32mpandas/_libs/index.pyx\u001b[0m in \u001b[0;36mpandas._libs.index.IndexEngine.get_loc\u001b[0;34m()\u001b[0m\n",
            "\u001b[0;32mpandas/_libs/hashtable_class_helper.pxi\u001b[0m in \u001b[0;36mpandas._libs.hashtable.PyObjectHashTable.get_item\u001b[0;34m()\u001b[0m\n",
            "\u001b[0;32mpandas/_libs/hashtable_class_helper.pxi\u001b[0m in \u001b[0;36mpandas._libs.hashtable.PyObjectHashTable.get_item\u001b[0;34m()\u001b[0m\n",
            "\u001b[0;31mKeyError\u001b[0m: 'June'"
          ]
        }
      ]
    }
  ]
}