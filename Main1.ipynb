{
 "cells": [
  {
   "cell_type": "markdown",
   "metadata": {},
   "source": [
    "# Cool Finder: Searching \"Friends\" (opposite of follower) for overlappers"
   ]
  },
  {
   "cell_type": "code",
   "execution_count": 18,
   "metadata": {
    "collapsed": true
   },
   "outputs": [],
   "source": [
    "# Get tweepy\n",
    "# n.b. must use pip to install, i.e., NOT easy_install w conda\n",
    "import tweepy \n",
    "from tweepy.streaming import StreamListener\n",
    "from tweepy import OAuthHandler\n",
    "from tweepy import Stream\n",
    "\n",
    "# Get other standard modules needed\n",
    "import numpy as np\n",
    "import pandas as pd\n",
    "\n",
    "# Get custom functions that aren't posted to github (private info!)\n",
    "import utils_do_not_post.py as ut"
   ]
  },
  {
   "cell_type": "code",
   "execution_count": null,
   "metadata": {
    "collapsed": true
   },
   "outputs": [],
   "source": [
    "# This listens to the twitter stream in real-time\n",
    "\n",
    "class StdOutListener(StreamListener):\n",
    "    # Basic listener, prints tweets to stdout\n",
    "    def on_data(self,data):\n",
    "        print(data)\n",
    "        return True\n",
    "    def on_error(self,status):\n",
    "        print(status)\n",
    "    \n",
    "if __name__ == '__main__':\n",
    "    listener= StdOutListener()\n",
    "    auth = OAuthHandler(CONSUMER_KEY,CONSUMER_SECRET)\n",
    "    auth.set_access_token(ACCESS_TOKEN,ACCESS_TOKEN_SECRET)\n",
    "    \n",
    "    stream = Stream(auth,listener)\n",
    "    \n",
    "    stream.filter(track=['Search words'])\n",
    "    "
   ]
  },
  {
   "cell_type": "code",
   "execution_count": null,
   "metadata": {
    "collapsed": true
   },
   "outputs": [],
   "source": [
    "auth = tweepy.OAuthHandler(consumer_key, consumer_secret)\n",
    "auth.set_access_token(access_token, access_token_secret)\n",
    "\n",
    "api = tweepy.API(auth)\n",
    "\n",
    "public_tweets = api.home_timeline()\n",
    "for tweet in public_tweets:\n",
    "    print(tweet.text)"
   ]
  },
  {
   "cell_type": "code",
   "execution_count": null,
   "metadata": {
    "collapsed": true
   },
   "outputs": [],
   "source": []
  },
  {
   "cell_type": "code",
   "execution_count": null,
   "metadata": {
    "collapsed": true
   },
   "outputs": [],
   "source": []
  }
 ],
 "metadata": {
  "kernelspec": {
   "display_name": "Python 3",
   "language": "python",
   "name": "python3"
  },
  "language_info": {
   "codemirror_mode": {
    "name": "ipython",
    "version": 3
   },
   "file_extension": ".py",
   "mimetype": "text/x-python",
   "name": "python",
   "nbconvert_exporter": "python",
   "pygments_lexer": "ipython3",
   "version": "3.6.1"
  }
 },
 "nbformat": 4,
 "nbformat_minor": 2
}
